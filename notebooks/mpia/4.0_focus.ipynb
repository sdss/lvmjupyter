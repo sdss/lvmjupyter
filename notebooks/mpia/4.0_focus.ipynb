{
 "cells": [
  {
   "cell_type": "code",
   "execution_count": 5,
   "id": "70441a73-0e03-45f0-b60d-216b448e1204",
   "metadata": {
    "tags": []
   },
   "outputs": [],
   "source": [
    "from lvmtipo.actors import lvm\n",
    "from lvmagp.focus import Focus"
   ]
  },
  {
   "cell_type": "code",
   "execution_count": 6,
   "id": "28658ad4-6340-4ade-ad3c-8125a0339be8",
   "metadata": {
    "tags": []
   },
   "outputs": [],
   "source": [
    "tel = lvm.spec\n",
    "\n",
    "focus = Focus(tel)"
   ]
  },
  {
   "cell_type": "code",
   "execution_count": 13,
   "id": "77c974a6-8350-4056-9afc-03d4ff8a2931",
   "metadata": {
    "tags": []
   },
   "outputs": [
    {
     "data": {
      "text/plain": [
       "{'ra_j2000_hours': 5.64401848457118, 'dec_j2000_degs': -69.0961955426303}"
      ]
     },
     "execution_count": 13,
     "metadata": {},
     "output_type": "execute_result"
    }
   ],
   "source": [
    "# await lvm.sci.pwi.start()\n",
    "# await lvm.sci.pwi.gotoRaDecJ2000(84.66/15, -69.0963889)"
   ]
  },
  {
   "cell_type": "code",
   "execution_count": 7,
   "id": "6718bdc1-2496-4ab5-a5b7-607015fe0c11",
   "metadata": {
    "tags": []
   },
   "outputs": [
    {
     "name": "stderr",
     "output_type": "stream",
     "text": [
      "\u001b[1;33m[WARNING]: \u001b[0mactor lvm.skyw.ag currently not reachable.\n"
     ]
    },
    {
     "data": {
      "text/plain": [
       "{'Reachable': True,\n",
       " 'AtHome': False,\n",
       " 'Moving': True,\n",
       " 'PositionSwitchStatus': 0,\n",
       " 'Position': 39.71,\n",
       " 'DeviceEncoder': {'Position': -140.0, 'Unit': 'STEPS'},\n",
       " 'Velocity': 69.0,\n",
       " 'AtLimit': False}"
      ]
     },
     "execution_count": 7,
     "metadata": {},
     "output_type": "execute_result"
    }
   ],
   "source": [
    "await tel.start()\n",
    "await tel.foc.status()\n"
   ]
  },
  {
   "cell_type": "code",
   "execution_count": 8,
   "id": "cc7bd155-ba99-4290-9c0d-134aba87d8aa",
   "metadata": {
    "tags": []
   },
   "outputs": [
    {
     "name": "stdout",
     "output_type": "stream",
     "text": [
      "Home:        40.0\n",
      "Offset -0.1: 39.9\n",
      "Position 42: 36.0\n"
     ]
    }
   ],
   "source": [
    "rc = await tel.foc.moveToHome()\n",
    "pos = rc.unpack('Position')\n",
    "print(f\"Home:        {pos}\")\n",
    "\n",
    "print(f\"Offset -0.1: {(await focus.offset(-0.1)).unpack('Position')}\")\n",
    "print(f\"Position 42: {(await focus.position(36)).unpack('Position')}\")"
   ]
  },
  {
   "cell_type": "code",
   "execution_count": null,
   "id": "19958575-c387-415d-bbf7-a25f79e51543",
   "metadata": {
    "tags": []
   },
   "outputs": [],
   "source": [
    "nominal_focus = (await focus.nominal(10.)).unpack('Position')\n",
    "\n",
    "print(f\"Nominal:     {nominal_focus}\")"
   ]
  },
  {
   "cell_type": "code",
   "execution_count": null,
   "id": "db5f98a3-2ddd-4d42-8c3b-da3e23aa4c15",
   "metadata": {
    "tags": []
   },
   "outputs": [],
   "source": [
    "import numpy as np\n",
    "from astropy.io import fits\n",
    "import matplotlib.pyplot as plt\n",
    "from matplotlib.colors import LogNorm, PowerNorm, SymLogNorm\n",
    "from matplotlib.patches import Ellipse, Rectangle\n",
    "from matplotlib import colors\n",
    "\n",
    "\n",
    "from mpl_toolkits.axes_grid1 import make_axes_locatable\n",
    "\n",
    "\n",
    "from astropy.visualization import astropy_mpl_style\n",
    "#plt.style.use(astropy_mpl_style)\n",
    "\n",
    "\n",
    "ellipse = lambda c: Ellipse(xy=(c['x'], c['y']),\n",
    "                            width=8*c['a'],\n",
    "                            height=8*c['b'],\n",
    "                            angle=c['theta'] * -180. / np.pi)\n",
    "\n",
    "def plot_catalog(ax, catalog, color=\"red\", cat_max=8, cat_rest=None):\n",
    "     for c in catalog[:cat_max]:\n",
    "         e = ellipse(c)\n",
    "         e.set_facecolor('none')\n",
    "         e.set_edgecolor(color)\n",
    "         ax.add_artist(e)\n",
    "     if cat_rest:\n",
    "         for c in catalog[cat_max+1:]:\n",
    "             e = ellipse(c)\n",
    "             e.set_facecolor('none')\n",
    "             e.set_edgecolor(\"white\")\n",
    "             ax.add_artist(e)\n",
    "\n",
    "def plot_centroid(ax, catalog, color=\"white\"):\n",
    "     catalog = catalog.transpose()\n",
    "     for c in catalog:\n",
    "         e = ellipse({'x': c[0], 'y': c[1], 'a': 8, 'b': 8, 'theta': 0})\n",
    "         e.set_facecolor('none')\n",
    "         e.set_edgecolor(color)\n",
    "         ax.add_artist(e)\n",
    "\n",
    "def plot_images(images, vmin=None, vmax=None, rotate=None, cat_max = 8, cat_rest = None, cat_extra=None, figsize=None, wcs=None):\n",
    "    data = images[0].data\n",
    "    mean, sigma, min, max = np.mean(data), np.std(data), np.min(data), np.max(data)\n",
    "    lperc, uperc = np.percentile(data, 5), np.percentile(data, 99.5)\n",
    "    median = np.median(data)\n",
    "\n",
    "    \n",
    "    args={}\n",
    "#    fig, ax = plt.subplots(1, ncols=(len(images)))\n",
    "#    fig, ax = plt.subplots(1, ncols=(len(images)), dpi=100)\n",
    "    fig, ax = plt.subplots(1, ncols=(len(images)), figsize=figsize if figsize else (8, 5/len(images)), *args)\n",
    "#    fig, ax = plt.subplots(nrows=(len(images)), figsize=(16,9))\n",
    "    \n",
    "    fig.canvas.toolbar_visible = 'fade-in-fade-out'\n",
    "#    fig.canvas.footer_visible = False\n",
    "    fig.canvas.header_visible = False\n",
    "    fig.canvas.toolbar_position = 'left'\n",
    "    is_single_image = len(images) > 1\n",
    "\n",
    "\n",
    "    for idx, img in enumerate(images):\n",
    "        if rotate and rotate[idx]:\n",
    "            data = np.copy(img.data).transpose()\n",
    "        else:\n",
    "            data = img.data\n",
    "\n",
    "        ax_idx = ax[idx] if is_single_image else ax\n",
    "        ax_idx.set_title(img.header[\"CAMNAME\"])\n",
    "        ax_idx.scatter([img.data.shape[1]/2], [img.data.shape[0]/2], marker='+', s=40, color='red')\n",
    "#        ax_im = ax_idx.imshow(data,\n",
    "#                              vmin=vmin if vmin else median,\n",
    "#                              vmax=vmax if vmax else uperc)\n",
    "        if wcs: \n",
    "            # wcs = WCS(hdu.header)\n",
    "            print(wcs)\n",
    "\n",
    "        ax_im = ax_idx.imshow(data,\n",
    "                              norm=PowerNorm(1.4,\n",
    "                                             vmin=vmin if vmin else median,\n",
    "                                             vmax=vmax if vmax else uperc,\n",
    "                                             clip=True,\n",
    "                                            )\n",
    "                             )\n",
    "\n",
    "        \n",
    "\n",
    "        ax_idx.invert_yaxis()\n",
    "        fig.colorbar(ax_im, cax=make_axes_locatable(ax_idx).append_axes('right', size='3%', pad=0.05), orientation='vertical')\n",
    "      \n",
    "        if img.catalog:\n",
    "            plot_catalog(ax_idx, img.catalog, \"red\", cat_max, cat_rest)\n",
    "\n",
    "        if cat_extra:\n",
    "            plot_catalog(ax_idx, cat_extra[idx], \"yellow\")\n",
    "\n",
    "        if hasattr(img, \"centroid\"):\n",
    "            plot_centroid(ax_idx, img.centroid, \"white\")\n",
    "\n",
    "    # plt.scatter(x, y, marker='+', s=40, color='red')\n",
    "\n",
    "    fig.tight_layout()\n",
    "    plt.show()"
   ]
  },
  {
   "cell_type": "code",
   "execution_count": null,
   "id": "91503fb5-3d80-4607-85be-e070cff25e9a",
   "metadata": {
    "tags": []
   },
   "outputs": [],
   "source": [
    "await tel.foc.status()"
   ]
  },
  {
   "cell_type": "code",
   "execution_count": null,
   "id": "a29d3b9d-8c28-417e-b01a-d2d3e616d65a",
   "metadata": {
    "tags": []
   },
   "outputs": [],
   "source": [
    "# await tel.agc.reconnect()"
   ]
  },
  {
   "cell_type": "code",
   "execution_count": null,
   "id": "6aadd58a-00cd-4915-a747-b57a9e5c5281",
   "metadata": {
    "tags": []
   },
   "outputs": [],
   "source": [
    "from lvmagp.focus.focusseries.base import FocusSeries\n",
    "from lvmagp.focus.curvefit import fit_hyperbola\n",
    "from lvmagp.images import Image\n",
    "\n",
    "import matplotlib.pyplot as plt\n",
    "\n",
    "\n",
    "def callback(data):\n",
    "    if isinstance(data[0], Image):\n",
    "        for idx, img in enumerate(data):\n",
    "            print(f\"cam: {img.header['CAMNAME']} focus: {img.header['FOCUSDT']} srcs: {len(img.catalog)}\")\n",
    "        plot_images(data)\n",
    "    elif isinstance(data[0], tuple):\n",
    "        fig, ax = plt.subplots(1, ncols=(len(data)), figsize=(10, 5/len(data)))\n",
    "\n",
    "        for idx, d in enumerate(data):\n",
    "            camera = d[0]\n",
    "            dd = d[1]\n",
    "            focus = [d[\"focus\"] for d in dd]\n",
    "            r = [d[\"r\"] for d in dd]\n",
    "            rerr = [d[\"rerr\"] for d in dd]\n",
    "\n",
    "            ax_idx = ax[idx] if len(data) > 1 else ax\n",
    "            ax_idx.set_title(camera)\n",
    "            ax_idx.errorbar(focus, r, yerr=rerr)\n",
    "\n",
    "    \n",
    "focvals = await focus.fine(exposure_time=5.0, guess=38, count=2, step=0.6, callback=callback)\n",
    "print(focvals)\n",
    "foc_median = np.nanmedian(focvals, axis=0)\n",
    "print(foc_median)\n",
    "\n",
    "await focus.position(foc_median[0])\n",
    "await tel.foc.status()\n"
   ]
  },
  {
   "cell_type": "code",
   "execution_count": null,
   "id": "3442f7be-5f82-41aa-8d63-553e499428bd",
   "metadata": {
    "tags": []
   },
   "outputs": [],
   "source": [
    "await tel.foc.status()"
   ]
  },
  {
   "cell_type": "code",
   "execution_count": null,
   "id": "e545e097-e6f2-4b71-994c-13f3cba5eb13",
   "metadata": {},
   "outputs": [],
   "source": []
  }
 ],
 "metadata": {
  "kernelspec": {
   "display_name": "Python 3 (ipykernel)",
   "language": "python",
   "name": "python3"
  },
  "language_info": {
   "codemirror_mode": {
    "name": "ipython",
    "version": 3
   },
   "file_extension": ".py",
   "mimetype": "text/x-python",
   "name": "python",
   "nbconvert_exporter": "python",
   "pygments_lexer": "ipython3",
   "version": "3.10.9"
  }
 },
 "nbformat": 4,
 "nbformat_minor": 5
}
