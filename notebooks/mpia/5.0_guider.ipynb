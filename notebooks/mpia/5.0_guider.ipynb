{
 "cells": [
  {
   "cell_type": "code",
   "execution_count": 1,
   "id": "0940aff8-2d2d-48c2-958f-b4d430ea1133",
   "metadata": {
    "tags": []
   },
   "outputs": [],
   "source": [
    "from lvmtipo.actors import lvm\n",
    "import asyncio"
   ]
  },
  {
   "cell_type": "code",
   "execution_count": 2,
   "id": "d5b39b3b-7ab3-4567-a0f4-7d435ec6d6e2",
   "metadata": {
    "tags": []
   },
   "outputs": [],
   "source": [
    "exptime = 1.0"
   ]
  },
  {
   "cell_type": "code",
   "execution_count": 4,
   "id": "130e4e73-5b71-4e5f-a656-7bded23516fa",
   "metadata": {
    "tags": []
   },
   "outputs": [
    {
     "data": {
      "text/plain": [
       "{'state': 'IDLE'}"
      ]
     },
     "execution_count": 4,
     "metadata": {},
     "output_type": "execute_result"
    }
   ],
   "source": [
    "tel = lvm.skyw\n",
    "\n",
    "await tel.start()\n",
    "await tel.ag.status()\n"
   ]
  },
  {
   "cell_type": "code",
   "execution_count": null,
   "id": "0b1635f9-deaf-47f3-91ef-b209ea895d5d",
   "metadata": {
    "tags": []
   },
   "outputs": [],
   "source": [
    "await tel.agc.reconnect()\n",
    "await tel.agc.status()"
   ]
  },
  {
   "cell_type": "code",
   "execution_count": 21,
   "id": "fd525c61-8876-4d1c-9b4b-981a96d42918",
   "metadata": {
    "tags": []
   },
   "outputs": [
    {
     "data": {
      "text/plain": [
       "{'Reachable': True,\n",
       " 'AtHome': False,\n",
       " 'Moving': False,\n",
       " 'PositionSwitchStatus': 0,\n",
       " 'Position': -135.0,\n",
       " 'DeviceEncoder': {'Position': 0.0, 'Unit': 'STEPS'},\n",
       " 'Velocity': 0.0,\n",
       " 'AtLimit': True,\n",
       " 'CurrentTime': 154879033.0,\n",
       " 'Simulate': False,\n",
       " 'SkyPA': -270.0}"
      ]
     },
     "execution_count": 21,
     "metadata": {},
     "output_type": "execute_result"
    }
   ],
   "source": [
    "# await tel.km.moveToHome()"
   ]
  },
  {
   "cell_type": "code",
   "execution_count": null,
   "id": "a4f60c4e-0ec0-46f0-8eff-d0c77d6772f8",
   "metadata": {
    "tags": []
   },
   "outputs": [],
   "source": [
    "# dont forget the focus !\n",
    "\n",
    "await tel.foc.status()"
   ]
  },
  {
   "cell_type": "code",
   "execution_count": 18,
   "id": "93c4154b-e0bb-4c7a-9a36-cb4799d93154",
   "metadata": {
    "tags": []
   },
   "outputs": [
    {
     "name": "stdout",
     "output_type": "stream",
     "text": [
      "ra_h:dec_d 17.8312727584641:20.2440671030261\n"
     ]
    }
   ],
   "source": [
    "ra_h, dec_d = (await tel.pwi.status()).flatten().unpack(\"ra_j2000_hours\", \"dec_j2000_degs\")\n",
    "print(f\"ra_h:dec_d {ra_h}:{dec_d}\")"
   ]
  },
  {
   "cell_type": "code",
   "execution_count": 23,
   "id": "de658894-0820-4f25-8293-a4fd9cc8a9d7",
   "metadata": {},
   "outputs": [
    {
     "data": {
      "text/plain": [
       "{'Reachable': True,\n",
       " 'AtHome': False,\n",
       " 'Moving': False,\n",
       " 'PositionSwitchStatus': 0,\n",
       " 'Position': 45.2693333153064,\n",
       " 'DeviceEncoder': {'Position': 3244848.0, 'Unit': 'STEPS'},\n",
       " 'Velocity': 0.0,\n",
       " 'AtLimit': False,\n",
       " 'CurrentTime': 155024416.0,\n",
       " 'Simulate': False,\n",
       " 'SkyPA': 90.53866666306129}"
      ]
     },
     "execution_count": 23,
     "metadata": {},
     "output_type": "execute_result"
    }
   ],
   "source": [
    "await tel.km.slewStart(ra_h, dec_d)"
   ]
  },
  {
   "cell_type": "code",
   "execution_count": 16,
   "id": "452a180e-f2e9-4d6e-8e12-46fc10d7924a",
   "metadata": {
    "tags": []
   },
   "outputs": [
    {
     "ename": "AttributeError",
     "evalue": "'NoneType' object has no attribute 'position_angle'",
     "output_type": "error",
     "traceback": [
      "\u001b[0;31m---------------------------------------------------------------------------\u001b[0m",
      "\u001b[0;31mAttributeError\u001b[0m                            Traceback (most recent call last)",
      "Cell \u001b[0;32mIn[16], line 2\u001b[0m\n\u001b[1;32m      1\u001b[0m \u001b[38;5;66;03m# ra/dec are optional and currently not used\u001b[39;00m\n\u001b[0;32m----> 2\u001b[0m \u001b[38;5;28mprint\u001b[39m(\u001b[38;5;28;01mawait\u001b[39;00m tel\u001b[38;5;241m.\u001b[39mag\u001b[38;5;241m.\u001b[39mguideStart(exptime, ra_h, dec_d))\n\u001b[1;32m      3\u001b[0m \u001b[38;5;28;01mfor\u001b[39;00m t \u001b[38;5;129;01min\u001b[39;00m \u001b[38;5;28mrange\u001b[39m(\u001b[38;5;241m3\u001b[39m):\n\u001b[1;32m      4\u001b[0m     \u001b[38;5;28;01mawait\u001b[39;00m asyncio\u001b[38;5;241m.\u001b[39msleep(\u001b[38;5;241m1\u001b[39m)\n",
      "File \u001b[0;32m~/lvm/cluplus/python/cluplus/proxy.py:197\u001b[0m, in \u001b[0;36mProxy.call_command\u001b[0;34m(self, command, callback, time_limit, nowait, nosync, object_hook, *args, **kwargs)\u001b[0m\n\u001b[1;32m    194\u001b[0m \u001b[38;5;28;01mif\u001b[39;00m nosync: \u001b[38;5;28;01mreturn\u001b[39;00m\n\u001b[1;32m    195\u001b[0m \u001b[38;5;28;01mif\u001b[39;00m nowait: \u001b[38;5;28;01mreturn\u001b[39;00m \u001b[38;5;28mself\u001b[39m\u001b[38;5;241m.\u001b[39m_handle_command_reply(fu)\n\u001b[0;32m--> 197\u001b[0m \u001b[38;5;28;01mreturn\u001b[39;00m \u001b[38;5;28;01mawait\u001b[39;00m \u001b[38;5;28mself\u001b[39m\u001b[38;5;241m.\u001b[39m_handle_command_reply(fu)\n",
      "File \u001b[0;32m~/lvm/cluplus/python/cluplus/proxy.py:154\u001b[0m, in \u001b[0;36mProxy._handle_command_reply\u001b[0;34m(self, fu)\u001b[0m\n\u001b[1;32m    151\u001b[0m reply \u001b[38;5;241m=\u001b[39m \u001b[38;5;28;01mawait\u001b[39;00m fu\n\u001b[1;32m    153\u001b[0m \u001b[38;5;28;01mif\u001b[39;00m \u001b[38;5;28mhasattr\u001b[39m(reply, \u001b[38;5;124m\"\u001b[39m\u001b[38;5;124mstatus\u001b[39m\u001b[38;5;124m\"\u001b[39m) \u001b[38;5;129;01mand\u001b[39;00m reply\u001b[38;5;241m.\u001b[39mstatus\u001b[38;5;241m.\u001b[39mdid_fail:\n\u001b[0;32m--> 154\u001b[0m     \u001b[38;5;28;01mraise\u001b[39;00m \u001b[38;5;28mself\u001b[39m\u001b[38;5;241m.\u001b[39m_errorMapToException(reply\u001b[38;5;241m.\u001b[39mreplies[\u001b[38;5;241m-\u001b[39m\u001b[38;5;241m1\u001b[39m]\u001b[38;5;241m.\u001b[39mmessage[\u001b[38;5;124m'\u001b[39m\u001b[38;5;124merror\u001b[39m\u001b[38;5;124m'\u001b[39m])\n\u001b[1;32m    156\u001b[0m msg \u001b[38;5;241m=\u001b[39m ProxyDict(reply\u001b[38;5;241m.\u001b[39mreplies[\u001b[38;5;241m-\u001b[39m\u001b[38;5;241m1\u001b[39m]\u001b[38;5;241m.\u001b[39mmessage)\n\u001b[1;32m    157\u001b[0m msg\u001b[38;5;241m.\u001b[39msender \u001b[38;5;241m=\u001b[39m reply\u001b[38;5;241m.\u001b[39mactor\n",
      "\u001b[0;31mAttributeError\u001b[0m: 'NoneType' object has no attribute 'position_angle'"
     ]
    }
   ],
   "source": [
    "# ra/dec are optional and currently not used\n",
    "print(await tel.ag.guideStart(exptime, ra_h, dec_d))\n",
    "for t in range(3):\n",
    "    await asyncio.sleep(1)\n",
    "    print(await tel.ag.status())\n",
    "print(await tel.ag.guideStop())"
   ]
  },
  {
   "cell_type": "code",
   "execution_count": null,
   "id": "0d2fa48d-d3a1-4387-91b3-b65e52ab4d88",
   "metadata": {},
   "outputs": [],
   "source": [
    "print(await tel.ag.status())"
   ]
  },
  {
   "cell_type": "code",
   "execution_count": null,
   "id": "d48950d1-464f-421a-b684-8e87f214c116",
   "metadata": {},
   "outputs": [],
   "source": []
  }
 ],
 "metadata": {
  "kernelspec": {
   "display_name": "Python 3 (ipykernel)",
   "language": "python",
   "name": "python3"
  },
  "language_info": {
   "codemirror_mode": {
    "name": "ipython",
    "version": 3
   },
   "file_extension": ".py",
   "mimetype": "text/x-python",
   "name": "python",
   "nbconvert_exporter": "python",
   "pygments_lexer": "ipython3",
   "version": "3.10.9"
  }
 },
 "nbformat": 4,
 "nbformat_minor": 5
}
