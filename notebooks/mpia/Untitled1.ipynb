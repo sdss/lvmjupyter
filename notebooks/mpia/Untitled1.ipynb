{
 "cells": [
  {
   "cell_type": "code",
   "execution_count": null,
   "id": "d3e882eb-65e8-4b86-9a62-fa7f850a8180",
   "metadata": {
    "tags": []
   },
   "outputs": [],
   "source": [
    "#import lvmagp.__main__\n",
    "\n",
    "from lvmagp.actor.actor import LvmagpActor"
   ]
  }
 ],
 "metadata": {
  "kernelspec": {
   "display_name": "Python 3 (ipykernel)",
   "language": "python",
   "name": "python3"
  },
  "language_info": {
   "codemirror_mode": {
    "name": "ipython",
    "version": 3
   },
   "file_extension": ".py",
   "mimetype": "text/x-python",
   "name": "python",
   "nbconvert_exporter": "python",
   "pygments_lexer": "ipython3",
   "version": "3.10.9"
  }
 },
 "nbformat": 4,
 "nbformat_minor": 5
}
