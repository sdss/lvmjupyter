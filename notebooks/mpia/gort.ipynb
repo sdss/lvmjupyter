{
 "cells": [
  {
   "cell_type": "code",
   "execution_count": 1,
   "id": "973a3928-3fc6-47b0-9763-e2a75c55baaf",
   "metadata": {},
   "outputs": [],
   "source": [
    "%load_ext autoreload\n",
    "%autoreload 2"
   ]
  },
  {
   "cell_type": "code",
   "execution_count": 2,
   "id": "52029c68-59a1-4805-897f-fa7e0f68aeaa",
   "metadata": {},
   "outputs": [],
   "source": [
    "from gort import observe_tile"
   ]
  },
  {
   "cell_type": "code",
   "execution_count": null,
   "id": "7f381caa-910f-44f8-9af4-585004e3fe1a",
   "metadata": {},
   "outputs": [],
   "source": [
    "await observe_tile()"
   ]
  }
 ],
 "metadata": {
  "kernelspec": {
   "display_name": "Python 3 (ipykernel)",
   "language": "python",
   "name": "python3"
  },
  "language_info": {
   "codemirror_mode": {
    "name": "ipython",
    "version": 3
   },
   "file_extension": ".py",
   "mimetype": "text/x-python",
   "name": "python",
   "nbconvert_exporter": "python",
   "pygments_lexer": "ipython3",
   "version": "3.11.3"
  }
 },
 "nbformat": 4,
 "nbformat_minor": 5
}
