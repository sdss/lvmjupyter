{
 "cells": [
  {
   "cell_type": "code",
   "execution_count": 1,
   "id": "42256785-bd9c-4417-a133-0d67d667f10c",
   "metadata": {
    "tags": []
   },
   "outputs": [
    {
     "name": "stderr",
     "output_type": "stream",
     "text": [
      "astrometry.net/util/fitsbin.c:501:read_chunk: Expected table size (484000 => 169 FITS blocks) is not equal to size of table \"sweep\" (5976000 => 2075 FITS blocks).\n",
      "astrometry.net/util/fitsbin.c:501:read_chunk: Expected table size (484000 => 169 FITS blocks) is not equal to size of table \"sweep\" (14365440 => 4988 FITS blocks).\n",
      "astrometry.net/util/fitsbin.c:501:read_chunk: Expected table size (484000 => 169 FITS blocks) is not equal to size of table \"sweep\" (15166080 => 5266 FITS blocks).\n",
      "astrometry.net/util/fitsbin.c:501:read_chunk: Expected table size (484000 => 169 FITS blocks) is not equal to size of table \"sweep\" (2583360 => 897 FITS blocks).\n",
      "astrometry.net/util/fitsbin.c:501:read_chunk: Expected table size (484000 => 169 FITS blocks) is not equal to size of table \"sweep\" (2583360 => 897 FITS blocks).\n"
     ]
    }
   ],
   "source": [
    "from astropy.io import fits\n",
    "import matplotlib.pyplot as plt\n",
    "import glob\n",
    "import numpy as np\n",
    "import time\n",
    "from IPython.display import clear_output\n",
    "import platesolve"
   ]
  },
  {
   "cell_type": "code",
   "execution_count": null,
   "id": "89a2dcc5-fb74-477e-897e-6159cc59a65a",
   "metadata": {
    "tags": []
   },
   "outputs": [],
   "source": [
    "import os\n",
    "\n",
    "import glob"
   ]
  },
  {
   "cell_type": "code",
   "execution_count": null,
   "id": "99e2829b-a694-4e77-8922-ec97b1466823",
   "metadata": {
    "tags": []
   },
   "outputs": [],
   "source": []
  },
  {
   "cell_type": "code",
   "execution_count": 3,
   "id": "7f5b8192-ce4b-41e6-84ec-2fb717838a8c",
   "metadata": {
    "tags": []
   },
   "outputs": [
    {
     "ename": "NameError",
     "evalue": "name 'platesolve' is not defined",
     "output_type": "error",
     "traceback": [
      "\u001b[0;31m---------------------------------------------------------------------------\u001b[0m",
      "\u001b[0;31mNameError\u001b[0m                                 Traceback (most recent call last)",
      "Cell \u001b[0;32mIn[3], line 8\u001b[0m\n\u001b[1;32m      5\u001b[0m \u001b[38;5;28;01mif\u001b[39;00m f \u001b[38;5;241m!=\u001b[39m last:\n\u001b[1;32m      7\u001b[0m     last \u001b[38;5;241m=\u001b[39m files[\u001b[38;5;241m-\u001b[39m\u001b[38;5;241m1\u001b[39m]\n\u001b[0;32m----> 8\u001b[0m     wcs \u001b[38;5;241m=\u001b[39m \u001b[43mplatesolve\u001b[49m\u001b[38;5;241m.\u001b[39mplatesolve(f, verbose\u001b[38;5;241m=\u001b[39m\u001b[38;5;28;01mTrue\u001b[39;00m)\n\u001b[1;32m      9\u001b[0m     \u001b[38;5;28mprint\u001b[39m(wcs)\n\u001b[1;32m     10\u001b[0m     \u001b[38;5;28;01mtry\u001b[39;00m:\n",
      "\u001b[0;31mNameError\u001b[0m: name 'platesolve' is not defined"
     ]
    }
   ],
   "source": [
    "last = \"\"\n",
    "while True:\n",
    "    files = sorted(glob.glob(\"/data/agcam/60069/*spec*\"))\n",
    "    f = files[-1]\n",
    "    if f != last:\n",
    "        \n",
    "        last = files[-1]\n",
    "        wcs = platesolve.platesolve(f, verbose=True)\n",
    "        print(wcs)\n",
    "        try:\n",
    "            hdul = fits.open(f)\n",
    "        except:\n",
    "            print(\"error opening file:\",f)\n",
    "        clear_output(wait=False)\n",
    "        img = hdul[0].data\n",
    "\n",
    "        imglow = np.nanmedian(img) - np.nanstd(img)\n",
    "        imghigh = np.nanmedian(img) + 3* np.nanstd(img)\n",
    "        plt.imshow(img, origin=\"lower\", vmin=imglow, vmax=imghigh)\n",
    "        plt.title(f)\n",
    "        plt.show()\n",
    "    time.sleep(2)"
   ]
  },
  {
   "cell_type": "code",
   "execution_count": 10,
   "id": "d919d451-2642-4a20-83ca-9e0b2d3ae2d1",
   "metadata": {
    "tags": []
   },
   "outputs": [],
   "source": []
  },
  {
   "cell_type": "code",
   "execution_count": 11,
   "id": "7150144a-fb36-4f21-b4a5-d1b89406a5cd",
   "metadata": {
    "tags": []
   },
   "outputs": [],
   "source": []
  },
  {
   "cell_type": "code",
   "execution_count": null,
   "id": "8f15159f-a5e2-4772-9063-e01efd06573a",
   "metadata": {},
   "outputs": [],
   "source": []
  }
 ],
 "metadata": {
  "kernelspec": {
   "display_name": "Python 3 (ipykernel)",
   "language": "python",
   "name": "python3"
  },
  "language_info": {
   "codemirror_mode": {
    "name": "ipython",
    "version": 3
   },
   "file_extension": ".py",
   "mimetype": "text/x-python",
   "name": "python",
   "nbconvert_exporter": "python",
   "pygments_lexer": "ipython3",
   "version": "3.10.9"
  }
 },
 "nbformat": 4,
 "nbformat_minor": 5
}
